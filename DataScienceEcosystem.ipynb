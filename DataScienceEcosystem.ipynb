{
  "nbformat": 4,
  "nbformat_minor": 0,
  "metadata": {
    "colab": {
      "provenance": []
    },
    "kernelspec": {
      "name": "python3",
      "display_name": "Python 3"
    },
    "language_info": {
      "name": "python"
    }
  },
  "cells": [
    {
      "cell_type": "markdown",
      "source": [
        "# Data Science Tools and Ecosystem"
      ],
      "metadata": {
        "id": "hgi-urz0zk3q"
      }
    },
    {
      "cell_type": "markdown",
      "source": [
        "In this notebook, Data Science Tools and Ecosystem are summarized."
      ],
      "metadata": {
        "id": "68Ojpx5N0gTV"
      }
    },
    {
      "cell_type": "markdown",
      "source": [
        "Objectives:\n",
        "* List popular languages for Data Science\n",
        "* List commonly used libraries for Data Science\n",
        "* List popular development open-source environment for Data Science\n",
        "* Examples of evaluating arithmetic expressions in Python\n"
      ],
      "metadata": {
        "id": "F8ZzVOuK8Wbr"
      }
    },
    {
      "cell_type": "markdown",
      "source": [
        "Some of the popular languages that Data Scientists use are:\n",
        "\n",
        "\n",
        "1. Python\n",
        "2. R\n",
        "3. SQL\n",
        "4. C++\n",
        "5. Java\n",
        "6. Scala\n",
        "7. Julia\n",
        "8. JavaScript\n",
        "9. PHP\n",
        "10. Go\n",
        "11. Ruby"
      ],
      "metadata": {
        "id": "WXnb6K3o0x3O"
      }
    },
    {
      "cell_type": "markdown",
      "source": [
        "Some of the commonly used libraries used by Data Scientists include:\n",
        "\n",
        "\n",
        "1. Pandas\n",
        "2. NumPy\n",
        "3. SciPy\n",
        "4. Matplotlib\n",
        "5. Sckit-learn\n",
        "6. Keras\n",
        "7. ggplot2\n",
        "8. TensorFlow\n",
        "9. Vegas\n",
        "10. BigDL\n",
        "\n"
      ],
      "metadata": {
        "id": "GcfBtUjS2MXv"
      }
    },
    {
      "cell_type": "markdown",
      "source": [
        "| Data Science Tools |\n",
        "---\n",
        "| Jupyter Notebook |\n",
        "| RStudio |\n",
        "| VisualStudio Code |\n"
      ],
      "metadata": {
        "id": "EROanqEA4L8T"
      }
    },
    {
      "cell_type": "markdown",
      "source": [
        "### Below are a few examples of evaluating arithmetic expressions in Python"
      ],
      "metadata": {
        "id": "iyWpeK8C6czm"
      }
    },
    {
      "cell_type": "code",
      "source": [
        "#This a simple arithmetic expression to mutiply then add integers\n",
        "(3*4)+5\n"
      ],
      "metadata": {
        "colab": {
          "base_uri": "https://localhost:8080/"
        },
        "id": "60kRy1Jl2mhA",
        "outputId": "6a5c746c-4115-4e56-f975-3c0711afd74e"
      },
      "execution_count": 4,
      "outputs": [
        {
          "output_type": "execute_result",
          "data": {
            "text/plain": [
              "17"
            ]
          },
          "metadata": {},
          "execution_count": 4
        }
      ]
    },
    {
      "cell_type": "code",
      "source": [
        "#This will convert 200 minutes to hours by diving by 60\n",
        "200/60"
      ],
      "metadata": {
        "colab": {
          "base_uri": "https://localhost:8080/"
        },
        "id": "-8gH8QGi7qLC",
        "outputId": "74a98491-2e2c-485d-e31a-860646285762"
      },
      "execution_count": 5,
      "outputs": [
        {
          "output_type": "execute_result",
          "data": {
            "text/plain": [
              "3.3333333333333335"
            ]
          },
          "metadata": {},
          "execution_count": 5
        }
      ]
    },
    {
      "cell_type": "markdown",
      "source": [
        "## Author:\n",
        "Yelizaveta Briazkalo"
      ],
      "metadata": {
        "id": "41YbBY6s9W4D"
      }
    }
  ]
}